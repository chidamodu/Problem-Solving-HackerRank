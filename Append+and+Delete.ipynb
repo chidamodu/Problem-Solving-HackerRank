{
 "cells": [
  {
   "cell_type": "code",
   "execution_count": null,
   "metadata": {
    "collapsed": true
   },
   "outputs": [],
   "source": [
    "def appendAndDelete(s, t, k):\n",
    "    if s==t:\n",
    "        return 'yes'\n",
    "    else:\n",
    "        for i in range(k):\n",
    "            "
   ]
  },
  {
   "cell_type": "code",
   "execution_count": 2,
   "metadata": {},
   "outputs": [
    {
     "data": {
      "text/plain": [
       "{'a', 'c', 'e', 'h', 'k', 'p', 'r', 'y'}"
      ]
     },
     "execution_count": 2,
     "metadata": {},
     "output_type": "execute_result"
    }
   ],
   "source": [
    "# hackerhappy\n",
    "# hackerrank\n",
    "\n",
    "set('hackerhappy')"
   ]
  },
  {
   "cell_type": "code",
   "execution_count": 3,
   "metadata": {},
   "outputs": [
    {
     "data": {
      "text/plain": [
       "{'a', 'c', 'e', 'h', 'k', 'n', 'r'}"
      ]
     },
     "execution_count": 3,
     "metadata": {},
     "output_type": "execute_result"
    }
   ],
   "source": [
    "set('hackerrank')"
   ]
  },
  {
   "cell_type": "code",
   "execution_count": 6,
   "metadata": {},
   "outputs": [
    {
     "data": {
      "text/plain": [
       "{'a': 2, 'c': 1, 'e': 1, 'h': 2, 'k': 1, 'p': 2, 'r': 1, 'y': 1}"
      ]
     },
     "execution_count": 6,
     "metadata": {},
     "output_type": "execute_result"
    }
   ],
   "source": [
    "\n",
    "def dict_update(s):\n",
    "    d={}\n",
    "    c=0\n",
    "    for i in range(len(s)):\n",
    "        d[s[i]]=d.get(s[i], c)+1\n",
    "    return d\n",
    "dict_update('hackerhappy')"
   ]
  },
  {
   "cell_type": "code",
   "execution_count": 7,
   "metadata": {},
   "outputs": [
    {
     "data": {
      "text/plain": [
       "{'a': 2, 'c': 1, 'e': 1, 'h': 1, 'k': 2, 'n': 1, 'r': 2}"
      ]
     },
     "execution_count": 7,
     "metadata": {},
     "output_type": "execute_result"
    }
   ],
   "source": [
    "dict_update('hackerrank')"
   ]
  },
  {
   "cell_type": "code",
   "execution_count": 28,
   "metadata": {
    "collapsed": true
   },
   "outputs": [],
   "source": [
    "# para bola\n",
    "# para chute\n",
    "\n",
    "which conditions you have to consider:\n",
    "1. when a character in s != character in t\n",
    "\n",
    "2. when s is shorter than t\n",
    "3. when t is shorter than s\n",
    "    there are two situations under points 2 and 3: \n",
    "    a. what if you loop through the length of the longer string, but \n",
    "    another string is shorter\n",
    "    b. what if you loop through the length of the shorter string, but another string is longer \n",
    "\n",
    "4. what if no equal characters can be found in both s and t? (1 and 4 are situations having similar consequences)\n",
    "len(s[i:])+len(t[i:]) <= k\n",
    "\n",
    "\n",
    "def equal_strings(s, t, k):\n",
    "    res=0\n",
    "    for i in range(len(s)):\n",
    "\n",
    "    return res<=k\n",
    "    \n",
    "\n",
    "\n",
    "\n",
    "\n",
    "# def equal_strings(s, t, k):\n",
    "#     res=0\n",
    "#     if len(s) < len(t):\n",
    "#         length=len(s)\n",
    "#     else:\n",
    "#         length=len(t)\n",
    "        \n",
    "#     for i in range(length):\n",
    "\n",
    "#         if (s[i]==t[i]):\n",
    "#             continue\n",
    "        \n",
    "#         elif (s[i]==s[-1]) or (t[i:]==t[-1]) or (s[i]!=t[i]):\n",
    "#             res+=len(s[i:])+len(t[i:])\n",
    "#             break\n",
    "\n",
    "#     return res<=k\n",
    "    \n",
    "  \n"
   ]
  },
  {
   "cell_type": "code",
   "execution_count": 29,
   "metadata": {},
   "outputs": [
    {
     "data": {
      "text/plain": [
       "True"
      ]
     },
     "execution_count": 29,
     "metadata": {},
     "output_type": "execute_result"
    }
   ],
   "source": [
    "equal_strings('ashley', 'ash', 2)"
   ]
  },
  {
   "cell_type": "code",
   "execution_count": 78,
   "metadata": {
    "collapsed": true
   },
   "outputs": [],
   "source": [
    "#My solution is correct but HackerRank expects output in certain format and so says mine is not right\n",
    "def equal_strings(s, t, k):\n",
    "    res_sol=0\n",
    "    rest=abs(len(s)-len(t))\n",
    "    for ele in range(len(s[:rest])):\n",
    "        if s[ele]==t[ele]:\n",
    "            continue\n",
    "        else:\n",
    "            res_sol=s[ele:]+t[ele:]\n",
    "        \n",
    "    if rest+res_sol <= k:\n",
    "        print(rest)\n",
    "        print(\"Yes\")\n",
    "    else:\n",
    "        print(\"No\")"
   ]
  },
  {
   "cell_type": "code",
   "execution_count": 79,
   "metadata": {},
   "outputs": [
    {
     "name": "stdout",
     "output_type": "stream",
     "text": [
      "1\n",
      "Yes\n"
     ]
    }
   ],
   "source": [
    "equal_strings('y', 'yu', 2)"
   ]
  },
  {
   "cell_type": "code",
   "execution_count": 72,
   "metadata": {
    "collapsed": true
   },
   "outputs": [],
   "source": [
    "def equal_strings(s, t, k):\n",
    "    res_sol=0\n",
    "    rest=abs(len(s)-len(t))\n",
    "    for ele in range(len(s[:rest])):\n",
    "        if s[ele]==t[ele]:\n",
    "            continue\n",
    "        else:\n",
    "            res_sol=s[ele:]+t[ele:]\n",
    "    \n",
    "    print(\"{}\".format(rest+res_sol <= k))\n",
    "   "
   ]
  },
  {
   "cell_type": "code",
   "execution_count": 73,
   "metadata": {},
   "outputs": [
    {
     "name": "stdout",
     "output_type": "stream",
     "text": [
      "True\n"
     ]
    }
   ],
   "source": [
    "equal_strings('aba', 'aba', 2)"
   ]
  },
  {
   "cell_type": "code",
   "execution_count": null,
   "metadata": {
    "collapsed": true
   },
   "outputs": [],
   "source": []
  }
 ],
 "metadata": {
  "kernelspec": {
   "display_name": "Python [conda root]",
   "language": "python",
   "name": "conda-root-py"
  },
  "language_info": {
   "codemirror_mode": {
    "name": "ipython",
    "version": 3
   },
   "file_extension": ".py",
   "mimetype": "text/x-python",
   "name": "python",
   "nbconvert_exporter": "python",
   "pygments_lexer": "ipython3",
   "version": "3.5.4"
  }
 },
 "nbformat": 4,
 "nbformat_minor": 2
}
