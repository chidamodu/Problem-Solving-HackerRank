{
 "cells": [
  {
   "cell_type": "code",
   "execution_count": null,
   "metadata": {
    "collapsed": true
   },
   "outputs": [],
   "source": [
    "You will be given an array of integers. All of the integers except one occur twice. That one is unique in the array.\n",
    "Given an array of integers, find and print the unique element.\n",
    "For example, a = [1,2,3,4,3,2,1], the unique element is 4.\n",
    "\n",
    "Function Description\n",
    "Complete the lonelyinteger function in the editor below. It should return the integer which occurs only once in the input array.\n",
    "lonelyinteger has the following parameter(s):\n",
    "a: an array of integers\n",
    "Input Format\n",
    "The first line contains a single integer, n, denoting the number of integers in the array. \n",
    "The second line contains n space-separated integers describing the values in a.\n",
    "\n",
    "Constraints\n",
    "1 >= n <100\n",
    "It is guaranteed that n is an odd number and that there is one unique element.\n",
    "0 >= a[i] <= 100, where 0 <=i< n.\n",
    "\n",
    "Output Format\n",
    "Print the unique integer in the array.\n",
    "\n",
    "\n"
   ]
  },
  {
   "cell_type": "code",
   "execution_count": 4,
   "metadata": {},
   "outputs": [
    {
     "data": {
      "text/plain": [
       "4"
      ]
     },
     "execution_count": 4,
     "metadata": {},
     "output_type": "execute_result"
    }
   ],
   "source": [
    "\n",
    "def lonelyinteger(a):\n",
    "    d={}\n",
    "    for i in a:\n",
    "        d[i]=d.get(i, 0)+1\n",
    "    for k, v in d.items():\n",
    "        if v==1:\n",
    "            return k\n",
    "   \n",
    "lonelyinteger([1,2,3,4,3,2,1])"
   ]
  },
  {
   "cell_type": "code",
   "execution_count": null,
   "metadata": {
    "collapsed": true
   },
   "outputs": [],
   "source": [
    "import math\n",
    "import os\n",
    "import random\n",
    "import re\n",
    "import sys\n",
    "\n",
    "# Complete the lonelyinteger function below.\n",
    "def lonelyinteger(a):\n",
    "    d={}\n",
    "    for i in a:\n",
    "        d[i]=d.get(i, 0)+1\n",
    "    for k, v in d.items():\n",
    "        if v==1:\n",
    "            return k\n",
    "\n",
    "if __name__ == '__main__':\n",
    "    fptr = open(os.environ['OUTPUT_PATH'], 'w')\n",
    "\n",
    "    n = int(input())\n",
    "\n",
    "    a = list(map(int, input().rstrip().split()))\n",
    "\n",
    "    result = lonelyinteger(a)\n",
    "\n",
    "    fptr.write(str(result) + '\\n')\n",
    "\n",
    "    fptr.close()\n"
   ]
  }
 ],
 "metadata": {
  "kernelspec": {
   "display_name": "Python [conda root]",
   "language": "python",
   "name": "conda-root-py"
  },
  "language_info": {
   "codemirror_mode": {
    "name": "ipython",
    "version": 3
   },
   "file_extension": ".py",
   "mimetype": "text/x-python",
   "name": "python",
   "nbconvert_exporter": "python",
   "pygments_lexer": "ipython3",
   "version": "3.5.4"
  }
 },
 "nbformat": 4,
 "nbformat_minor": 2
}
