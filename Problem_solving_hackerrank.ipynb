{
 "cells": [
  {
   "cell_type": "code",
   "execution_count": null,
   "metadata": {
    "collapsed": true
   },
   "outputs": [],
   "source": [
    "Complete the function solveMeFirst to compute the sum of two integers.\n",
    "Function prototype:\n",
    "int solveMeFirst(int a, int b);\n",
    "where,\n",
    "a is the first integer input.\n",
    "b is the second integer input\n",
    "Return values\n",
    "sum of the above two integers\n",
    "\n",
    "def solveMeFirst(a,b):\n",
    "\t# Hint: Type return a+b below\n",
    "    return a+b\n",
    "\n",
    "\n",
    "num1 = int(input())\n",
    "num2 = int(input())\n",
    "res = solveMeFirst(num1,num2)\n",
    "print(res)"
   ]
  },
  {
   "cell_type": "code",
   "execution_count": 51,
   "metadata": {},
   "outputs": [],
   "source": [
    "# What is Dense Ranking?\n",
    "\n",
    "# In dense ranking, items that compare equally receive the same ranking number\n",
    "# and the next item(s) receive the immediately following ranking number. \n",
    "\n",
    "# Thus if A ranks ahead of B and C (which compare equal) which are both ranked ahead of D, \n",
    "# then A gets ranking number 1 (\"first\"),\n",
    "# B gets ranking number 2 (\"joint second\"),\n",
    "# C also gets ranking number 2 (\"joint second\") and D gets ranking number 3 (\"Third\")\n",
    "\n",
    "# Alice is playing an arcade game and wants to climb to the top of the leaderboard and wants to track her ranking.\n",
    "# The game uses Dense Ranking, so its leaderboard works like this:\n",
    "# The player with the highest score is ranked number 1 on the leaderboard.\n",
    "# Players who have equal scores receive the same ranking number,\n",
    "# and the next player(s) receive the immediately following ranking number.\n",
    "\n",
    "# Function Description\n",
    "# Complete the climbingLeaderboard function in the editor below. It should return an integer array where each element res[j]\n",
    "#represents Alice's rank after the jth game.\n",
    "# climbingLeaderboard has the following parameter(s):\n",
    "# scores: an array of integers that represent leaderboard scores\n",
    "# alice: an array of integers that represent Alice's scores\n",
    "    \n",
    "# Input Format\n",
    "# The first line contains an integer n, the number of players on the leaderboard. \n",
    "# The next line contains n space-separated integers scores[i], the leaderboard scores in decreasing order. \n",
    "# The next line contains an integer, m, denoting the number games Alice plays. \n",
    "# The last line contains m space-separated integers alice[j], the game scores.\n",
    "\n",
    "\n",
    "!/bin/python3\n",
    "\n",
    "import math\n",
    "import os\n",
    "import random\n",
    "import re\n",
    "import sys\n",
    "\n",
    "# Complete the climbingLeaderboard function below.\n",
    "def climbingLeaderboard(scores, alice):\n",
    "    s = sorted(set(scores), reverse=True)\n",
    "    p = len(s)\n",
    "    ranks = []\n",
    "    \n",
    "    for c in alice:\n",
    "        while p >= 1 and c >= s[p - 1]:\n",
    "            p -= 1\n",
    "        ranks.append(p + 1)    \n",
    "    \n",
    "    return ranks\n",
    "        \n",
    "\n",
    "if __name__ == '__main__':\n",
    "    fptr = open(os.environ['OUTPUT_PATH'], 'w')\n",
    "\n",
    "    scores_count = int(input())\n",
    "\n",
    "    scores = list(map(int, input().rstrip().split()))\n",
    "\n",
    "    alice_count = int(input())\n",
    "\n",
    "    alice = list(map(int, input().rstrip().split()))\n",
    "\n",
    "    result = climbingLeaderboard(scores, alice)\n",
    "\n",
    "    fptr.write('\\n'.join(map(str, result)))\n",
    "    fptr.write('\\n')\n",
    "\n",
    "    fptr.close()\n"
   ]
  },
  {
   "cell_type": "code",
   "execution_count": 31,
   "metadata": {},
   "outputs": [
    {
     "data": {
      "text/plain": [
       "array([1, 1, 3, 4])"
      ]
     },
     "execution_count": 31,
     "metadata": {},
     "output_type": "execute_result"
    }
   ],
   "source": [
    "from scipy.stats import rankdata\n",
    "rankdata([1,1,6,90], method='min')"
   ]
  },
  {
   "cell_type": "code",
   "execution_count": 33,
   "metadata": {},
   "outputs": [],
   "source": [
    "import numpy\n",
    "array = numpy.array([4,2,7,1])\n",
    "temp = array.argsort()"
   ]
  },
  {
   "cell_type": "code",
   "execution_count": 34,
   "metadata": {},
   "outputs": [
    {
     "data": {
      "text/plain": [
       "array([3, 1, 0, 2])"
      ]
     },
     "execution_count": 34,
     "metadata": {},
     "output_type": "execute_result"
    }
   ],
   "source": [
    "temp"
   ]
  },
  {
   "cell_type": "code",
   "execution_count": 35,
   "metadata": {},
   "outputs": [
    {
     "data": {
      "text/plain": [
       "array([4, 2, 7, 1])"
      ]
     },
     "execution_count": 35,
     "metadata": {},
     "output_type": "execute_result"
    }
   ],
   "source": [
    "array"
   ]
  },
  {
   "cell_type": "code",
   "execution_count": 36,
   "metadata": {
    "collapsed": true
   },
   "outputs": [],
   "source": [
    "ranks = numpy.empty_like(temp)\n",
    "ranks[temp] = numpy.arange(len(array))"
   ]
  },
  {
   "cell_type": "code",
   "execution_count": 37,
   "metadata": {},
   "outputs": [
    {
     "data": {
      "text/plain": [
       "array([2, 1, 3, 0])"
      ]
     },
     "execution_count": 37,
     "metadata": {},
     "output_type": "execute_result"
    }
   ],
   "source": [
    "ranks"
   ]
  },
  {
   "cell_type": "code",
   "execution_count": 45,
   "metadata": {},
   "outputs": [
    {
     "data": {
      "text/plain": [
       "array([0, 1, 2, 3])"
      ]
     },
     "execution_count": 45,
     "metadata": {},
     "output_type": "execute_result"
    }
   ],
   "source": [
    "import numpy\n",
    "array = numpy.array([4,2,2,1])\n",
    "temp = array.argsort()\n",
    "ranks = numpy.empty_like(temp)\n",
    "#ranks\n",
    "ranks[temp] = numpy.arange(len(array))\n",
    "# ranks"
   ]
  },
  {
   "cell_type": "code",
   "execution_count": 40,
   "metadata": {},
   "outputs": [
    {
     "data": {
      "text/plain": [
       "array([3, 1, 2, 0])"
      ]
     },
     "execution_count": 40,
     "metadata": {},
     "output_type": "execute_result"
    }
   ],
   "source": [
    "import numpy\n",
    "array = numpy.array([4,2,2,1])\n",
    "temp = array.argsort(kind='quicksort')\n",
    "temp"
   ]
  },
  {
   "cell_type": "code",
   "execution_count": 41,
   "metadata": {},
   "outputs": [
    {
     "data": {
      "text/plain": [
       "array([3, 1, 2, 0])"
      ]
     },
     "execution_count": 41,
     "metadata": {},
     "output_type": "execute_result"
    }
   ],
   "source": [
    "import numpy\n",
    "array = numpy.array([4,2,2,1])\n",
    "temp = array.argsort(kind='mergesort')\n",
    "temp"
   ]
  },
  {
   "cell_type": "code",
   "execution_count": 42,
   "metadata": {},
   "outputs": [
    {
     "data": {
      "text/plain": [
       "array([3, 2, 1, 0])"
      ]
     },
     "execution_count": 42,
     "metadata": {},
     "output_type": "execute_result"
    }
   ],
   "source": [
    "import numpy\n",
    "array = numpy.array([4,2,2,1])\n",
    "temp = array.argsort(kind='heapsort')\n",
    "temp"
   ]
  },
  {
   "cell_type": "code",
   "execution_count": null,
   "metadata": {},
   "outputs": [],
   "source": [
    "numpy.empty_like:\n",
    "Return a new array with the same shape and type as a given array.\n",
    "\n",
    "array.argsort\n",
    "Returns the indices that would sort an array.\n",
    "\n",
    "numpy.arange\n",
    "Return evenly spaced values within a given interval.\n",
    "example:\n",
    ">>> np.arange(3)\n",
    "array([0, 1, 2])"
   ]
  },
  {
   "cell_type": "code",
   "execution_count": 76,
   "metadata": {
    "collapsed": true
   },
   "outputs": [],
   "source": [
    "#looks like broken - not working for single element or even double elements\n",
    "def leaderboard_climb(arr, kara):\n",
    "    scores = sorted(set(arr), reverse=True)\n",
    "    position = len(scores)\n",
    "    ranks = []\n",
    "    \n",
    "    for checkpoint in kara:\n",
    "        while position >= 1 and checkpoint >= scores[position - 1]:\n",
    "            position -= 1\n",
    "        ranks.append(position + 1)    \n",
    "    \n",
    "    return ranks"
   ]
  },
  {
   "cell_type": "code",
   "execution_count": 77,
   "metadata": {},
   "outputs": [
    {
     "data": {
      "text/plain": [
       "[5, 2, 1]"
      ]
     },
     "execution_count": 77,
     "metadata": {},
     "output_type": "execute_result"
    }
   ],
   "source": [
    "leaderboard_climb([120, 67, 45, 12], [5, 90, 1000])"
   ]
  }
 ],
 "metadata": {
  "kernelspec": {
   "display_name": "Python [conda root]",
   "language": "python",
   "name": "conda-root-py"
  },
  "language_info": {
   "codemirror_mode": {
    "name": "ipython",
    "version": 3
   },
   "file_extension": ".py",
   "mimetype": "text/x-python",
   "name": "python",
   "nbconvert_exporter": "python",
   "pygments_lexer": "ipython3",
   "version": "3.5.4"
  }
 },
 "nbformat": 4,
 "nbformat_minor": 2
}
