{
 "cells": [
  {
   "cell_type": "code",
   "execution_count": 86,
   "metadata": {},
   "outputs": [],
   "source": [
    "\n",
    "# pseudo:\n",
    "# first i have to get the number repeated according to k - i think i have to join the number without space between each other\n",
    "# then have to iterate through the number and find sum - also it's a good idea to keep the string format of the input number\n",
    "#as it is not possible to iterate an integer in python\n",
    "# then have to set the recursive counter to keep going until i get a single digit\n",
    "\n",
    "\n",
    "def superDigit(n, k):\n",
    "    if k < 10**6:\n",
    "        tot=0\n",
    "        res2=[]\n",
    "        res=[n]*k\n",
    "        for i in range(len(res)):\n",
    "            res2.extend(str(res[i]))\n",
    "        for ele in res2:\n",
    "            tot+=int(ele)\n",
    "        while len(str(tot))!=1:\n",
    "            kite=tot\n",
    "            tot=0\n",
    "            for j in str(kite):\n",
    "                tot+=int(j)\n",
    "    else:\n",
    "        return \"Provide appropriate values for k!\"\n",
    "    return tot\n",
    "        \n",
    "    \n",
    "    \n",
    "    "
   ]
  },
  {
   "cell_type": "code",
   "execution_count": 87,
   "metadata": {},
   "outputs": [
    {
     "data": {
      "text/plain": [
       "8"
      ]
     },
     "execution_count": 87,
     "metadata": {},
     "output_type": "execute_result"
    }
   ],
   "source": [
    "superDigit(9875, 40000)"
   ]
  },
  {
   "cell_type": "code",
   "execution_count": 59,
   "metadata": {},
   "outputs": [
    {
     "data": {
      "text/plain": [
       "2"
      ]
     },
     "execution_count": 59,
     "metadata": {},
     "output_type": "execute_result"
    }
   ],
   "source": [
    "len('39')"
   ]
  },
  {
   "cell_type": "code",
   "execution_count": 29,
   "metadata": {},
   "outputs": [
    {
     "data": {
      "text/plain": [
       "[143, 143, 143]"
      ]
     },
     "execution_count": 29,
     "metadata": {},
     "output_type": "execute_result"
    }
   ],
   "source": [
    "[143]*3"
   ]
  },
  {
   "cell_type": "code",
   "execution_count": 7,
   "metadata": {},
   "outputs": [
    {
     "name": "stdout",
     "output_type": "stream",
     "text": [
      "<class 'int'>\n"
     ]
    }
   ],
   "source": [
    "for i in [987654]:\n",
    "    print(type(i))"
   ]
  },
  {
   "cell_type": "code",
   "execution_count": 11,
   "metadata": {},
   "outputs": [
    {
     "name": "stdout",
     "output_type": "stream",
     "text": [
      "987654\n"
     ]
    }
   ],
   "source": [
    "techie=[]\n",
    "techie.append(987654)\n",
    "techie\n",
    "for i in techie:\n",
    "    print(i)"
   ]
  },
  {
   "cell_type": "code",
   "execution_count": 12,
   "metadata": {},
   "outputs": [
    {
     "name": "stdout",
     "output_type": "stream",
     "text": [
      "9\n",
      "8\n",
      "7\n",
      "6\n",
      "5\n",
      "4\n"
     ]
    }
   ],
   "source": [
    "for i in '987654':\n",
    "    print(len[0])"
   ]
  },
  {
   "cell_type": "code",
   "execution_count": 23,
   "metadata": {},
   "outputs": [
    {
     "data": {
      "text/plain": [
       "6"
      ]
     },
     "execution_count": 23,
     "metadata": {},
     "output_type": "execute_result"
    }
   ],
   "source": [
    "len('987654')"
   ]
  },
  {
   "cell_type": "code",
   "execution_count": 113,
   "metadata": {
    "collapsed": true
   },
   "outputs": [],
   "source": [
    "def superDigit(n, k):\n",
    "    \n",
    "    tot=0\n",
    "    res2=[]\n",
    "    res=[n]*k\n",
    "    print(res)\n",
    "    for i in range(len(res)):\n",
    "        res2.extend(str(res[i]))\n",
    "    for ele in res2:\n",
    "        tot+=int(ele)\n",
    "            \n",
    "            \n",
    "        \n",
    "            \n",
    "    while len(str(tot))!=1:\n",
    "        kite=tot\n",
    "        tot=0\n",
    "        for j in str(kite):\n",
    "            tot+=int(j)\n",
    "    \n",
    "    return tot\n",
    "\n",
    "result for now: this is working but having runtime memory error. have an idea to deal with this issue by using a dictionary\n",
    "how does the idea flow:\n",
    "have a dictionary with values 0 to 9. they are the dictionary keys\n",
    "then count the number of occurrences of every key in the given n. they will form the values of the keys in the dictionary\n",
    "now convert the key into an integer value and then multiply it with its value (that you have from counting the occurrences)\n",
    "next is to multiply this product with the given value of k\n",
    "Do this for every key\n",
    "sum the resulting values\n",
    "keep repeating the step until you end up with a single digit"
   ]
  }
 ],
 "metadata": {
  "kernelspec": {
   "display_name": "Python [conda root]",
   "language": "python",
   "name": "conda-root-py"
  },
  "language_info": {
   "codemirror_mode": {
    "name": "ipython",
    "version": 3
   },
   "file_extension": ".py",
   "mimetype": "text/x-python",
   "name": "python",
   "nbconvert_exporter": "python",
   "pygments_lexer": "ipython3",
   "version": "3.5.4"
  }
 },
 "nbformat": 4,
 "nbformat_minor": 2
}
